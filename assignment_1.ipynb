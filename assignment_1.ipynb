{
 "cells": [
  {
   "cell_type": "code",
   "execution_count": 32,
   "source": [
    "#### Q1\r\n",
    "## given\r\n",
    "# F1 (formant) = 900 Hz \r\n",
    "# B1(bandwidth) = 200 Hz \r\n",
    "# Fs (sampling freq) = 16 kHz \r\n",
    "\r\n",
    "# if H(e^jw) = G/((jw+sigma)^2+w_0^2)\r\n",
    "# 2*sigma = 2*pi*B1\r\n",
    "# w_0 = 2*pi*F1\r\n",
    "\r\n",
    "import numpy as np\r\n",
    "import matplotlib.pyplot as plt\r\n",
    "\r\n",
    "## lets take G=10^8\r\n",
    "B1 = 200\r\n",
    "F1 = 900\r\n",
    "sigma = np.pi*B1\r\n",
    "w_0 = 2*np.pi*F1\r\n",
    "\r\n",
    "freqs = np.arange(0,8000,1)\r\n",
    "mag = np.zeros(freqs.shape)\r\n",
    "for i in range(len(freqs)):\r\n",
    "    value_1 = (2*np.pi*freqs[i])**2 + sigma**2 - w_0**2\r\n",
    "    value_2 = 2*(2*np.pi*freqs[i])*sigma\r\n",
    "    mag[i] = 10**8/np.sqrt(value_1**2 + value_2**2)\r\n",
    "\r\n",
    "plt.plot(freqs, mag)\r\n",
    "plt.xlabel('freq(hz)')\r\n",
    "plt.ylabel('filter mag')\r\n",
    "plt.title('Filter magnitude v/s Frequency')\r\n",
    "plt.show()"
   ],
   "outputs": [
    {
     "output_type": "display_data",
     "data": {
      "text/plain": [
       "<Figure size 432x288 with 1 Axes>"
      ],
      "image/png": "[encoded data removed]"
     },
     "metadata": {
      "needs_background": "light"
     }
    }
   ],
   "metadata": {}
  },
  {
   "cell_type": "markdown",
   "source": [
    "### Q1 part b (impulse response of the filter)\r\n",
    "$$ Here H(z) = G/(1-re^{j*\\theta}*z^{-1})(1-re^{-j*\\theta}*z^{-1}) = G/(e^{j*\\theta} - e^{-j*\\theta})*(e^{j*\\theta}/(1-re^{j*\\theta}*z^-1) - e^{-j*\\theta})/(1-re^{-j*\\theta}*z^{-1}))$$"
   ],
   "metadata": {}
  },
  {
   "cell_type": "code",
   "execution_count": null,
   "source": [
    "\r\n",
    "Hence h[n] = G/(e^(j*theta) - e^(-j*theta))* ()\r\n",
    "# r=e^(-B1*pi*T)\r\n",
    "# theta = 2*pi*F1*T\r\n",
    "\r\n",
    "\r\n",
    "\r\n"
   ],
   "outputs": [],
   "metadata": {}
  },
  {
   "cell_type": "code",
   "execution_count": null,
   "source": [],
   "outputs": [],
   "metadata": {}
  }
 ],
 "metadata": {
  "kernelspec": {
   "display_name": "Python 3 (ipykernel)",
   "language": "python",
   "name": "python3"
  },
  "language_info": {
   "codemirror_mode": {
    "name": "ipython",
    "version": 3
   },
   "file_extension": ".py",
   "mimetype": "text/x-python",
   "name": "python",
   "nbconvert_exporter": "python",
   "pygments_lexer": "ipython3",
   "version": "3.8.10"
  }
 },
 "nbformat": 4,
 "nbformat_minor": 5
}